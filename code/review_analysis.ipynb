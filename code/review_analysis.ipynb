{
 "cells": [
  {
   "cell_type": "code",
   "execution_count": 1,
   "metadata": {},
   "outputs": [
    {
     "name": "stderr",
     "output_type": "stream",
     "text": [
      "[nltk_data] Downloading package stopwords to\n",
      "[nltk_data]     C:\\Users\\KOU\\AppData\\Roaming\\nltk_data...\n",
      "[nltk_data]   Package stopwords is already up-to-date!\n"
     ]
    }
   ],
   "source": [
    "import numpy as np\n",
    "import pandas as pd\n",
    "import seaborn as sns\n",
    "import matplotlib .pyplot as plt\n",
    "%matplotlib inline\n",
    "\n",
    "import string\n",
    "import nltk\n",
    "nltk.download('stopwords')\n",
    "from nltk.corpus import stopwords\n",
    "from nltk.probability import FreqDist\n",
    "# from wordcloud import WordCloud,STOPWORDS\n",
    "\n",
    "from sklearn.utils import shuffle"
   ]
  },
  {
   "cell_type": "code",
   "execution_count": 2,
   "metadata": {},
   "outputs": [
    {
     "data": {
      "text/html": [
       "<div>\n",
       "<style scoped>\n",
       "    .dataframe tbody tr th:only-of-type {\n",
       "        vertical-align: middle;\n",
       "    }\n",
       "\n",
       "    .dataframe tbody tr th {\n",
       "        vertical-align: top;\n",
       "    }\n",
       "\n",
       "    .dataframe thead th {\n",
       "        text-align: right;\n",
       "    }\n",
       "</style>\n",
       "<table border=\"1\" class=\"dataframe\">\n",
       "  <thead>\n",
       "    <tr style=\"text-align: right;\">\n",
       "      <th></th>\n",
       "      <th>Unnamed: 0</th>\n",
       "      <th>review_id</th>\n",
       "      <th>user_id</th>\n",
       "      <th>business_id</th>\n",
       "      <th>stars</th>\n",
       "      <th>useful</th>\n",
       "      <th>funny</th>\n",
       "      <th>cool</th>\n",
       "      <th>text</th>\n",
       "      <th>date</th>\n",
       "    </tr>\n",
       "  </thead>\n",
       "  <tbody>\n",
       "    <tr>\n",
       "      <td>0</td>\n",
       "      <td>0</td>\n",
       "      <td>hfXVxrlD6fr1kXfz6sR13Q</td>\n",
       "      <td>7nIzgNF7YzI-UAyYr3y9hw</td>\n",
       "      <td>J9f-9Prw2YVM-fiZqv2fmQ</td>\n",
       "      <td>2</td>\n",
       "      <td>0</td>\n",
       "      <td>1</td>\n",
       "      <td>1</td>\n",
       "      <td>Parking is tough to get here so I don't get to...</td>\n",
       "      <td>2013-09-04 04:35:27</td>\n",
       "    </tr>\n",
       "    <tr>\n",
       "      <td>1</td>\n",
       "      <td>0</td>\n",
       "      <td>9bZ-bawEk6YTLsZGpwaJEQ</td>\n",
       "      <td>XmguBITJlcsbm40y6zvJ8w</td>\n",
       "      <td>4-QlcyLqRc8To15oOHUjkg</td>\n",
       "      <td>2</td>\n",
       "      <td>2</td>\n",
       "      <td>0</td>\n",
       "      <td>0</td>\n",
       "      <td>Food was great! Loved the pepperoni rolls and ...</td>\n",
       "      <td>2015-12-05 02:37:22</td>\n",
       "    </tr>\n",
       "    <tr>\n",
       "      <td>2</td>\n",
       "      <td>0</td>\n",
       "      <td>lsTR-MMZ55s4GUKGVmNKZQ</td>\n",
       "      <td>Lm98gts_yO0eeVYnwYny3g</td>\n",
       "      <td>ZLVWlYQQxzZoJbg4w0gsMA</td>\n",
       "      <td>5</td>\n",
       "      <td>1</td>\n",
       "      <td>1</td>\n",
       "      <td>1</td>\n",
       "      <td>My hubby and I went here for our first date ni...</td>\n",
       "      <td>2016-06-22 22:06:28</td>\n",
       "    </tr>\n",
       "    <tr>\n",
       "      <td>3</td>\n",
       "      <td>0</td>\n",
       "      <td>r6mJOqJ0xQQWTJ7f6MXcdw</td>\n",
       "      <td>QVmfEMLckTVy1gTjYDtZUA</td>\n",
       "      <td>gKCQMUVa31kLInYxaAkiLA</td>\n",
       "      <td>3</td>\n",
       "      <td>0</td>\n",
       "      <td>0</td>\n",
       "      <td>0</td>\n",
       "      <td>Johnny Rockets is a decent choice for a weeken...</td>\n",
       "      <td>2015-01-18 18:50:44</td>\n",
       "    </tr>\n",
       "    <tr>\n",
       "      <td>4</td>\n",
       "      <td>0</td>\n",
       "      <td>Mp7qXWexqoSqKbNh7dYhJg</td>\n",
       "      <td>jAYIkCIqhDgQcp7PG8z_vA</td>\n",
       "      <td>J9f-9Prw2YVM-fiZqv2fmQ</td>\n",
       "      <td>5</td>\n",
       "      <td>1</td>\n",
       "      <td>0</td>\n",
       "      <td>0</td>\n",
       "      <td>Fries are cooked to perfection....very crispy....</td>\n",
       "      <td>2015-05-26 07:45:02</td>\n",
       "    </tr>\n",
       "  </tbody>\n",
       "</table>\n",
       "</div>"
      ],
      "text/plain": [
       "   Unnamed: 0               review_id                 user_id  \\\n",
       "0           0  hfXVxrlD6fr1kXfz6sR13Q  7nIzgNF7YzI-UAyYr3y9hw   \n",
       "1           0  9bZ-bawEk6YTLsZGpwaJEQ  XmguBITJlcsbm40y6zvJ8w   \n",
       "2           0  lsTR-MMZ55s4GUKGVmNKZQ  Lm98gts_yO0eeVYnwYny3g   \n",
       "3           0  r6mJOqJ0xQQWTJ7f6MXcdw  QVmfEMLckTVy1gTjYDtZUA   \n",
       "4           0  Mp7qXWexqoSqKbNh7dYhJg  jAYIkCIqhDgQcp7PG8z_vA   \n",
       "\n",
       "              business_id  stars  useful  funny  cool  \\\n",
       "0  J9f-9Prw2YVM-fiZqv2fmQ      2       0      1     1   \n",
       "1  4-QlcyLqRc8To15oOHUjkg      2       2      0     0   \n",
       "2  ZLVWlYQQxzZoJbg4w0gsMA      5       1      1     1   \n",
       "3  gKCQMUVa31kLInYxaAkiLA      3       0      0     0   \n",
       "4  J9f-9Prw2YVM-fiZqv2fmQ      5       1      0     0   \n",
       "\n",
       "                                                text                 date  \n",
       "0  Parking is tough to get here so I don't get to...  2013-09-04 04:35:27  \n",
       "1  Food was great! Loved the pepperoni rolls and ...  2015-12-05 02:37:22  \n",
       "2  My hubby and I went here for our first date ni...  2016-06-22 22:06:28  \n",
       "3  Johnny Rockets is a decent choice for a weeken...  2015-01-18 18:50:44  \n",
       "4  Fries are cooked to perfection....very crispy....  2015-05-26 07:45:02  "
      ]
     },
     "execution_count": 2,
     "metadata": {},
     "output_type": "execute_result"
    }
   ],
   "source": [
    "#\n",
    "review = pd.read_csv('data/burgers_review.csv')\n",
    "review.head()"
   ]
  },
  {
   "cell_type": "code",
   "execution_count": 3,
   "metadata": {},
   "outputs": [],
   "source": [
    "review = review.drop(['review_id','user_id','business_id','Unnamed: 0','date'],axis=1)\n",
    "#review.head(5)"
   ]
  },
  {
   "cell_type": "code",
   "execution_count": 4,
   "metadata": {},
   "outputs": [
    {
     "data": {
      "text/html": [
       "<div>\n",
       "<style scoped>\n",
       "    .dataframe tbody tr th:only-of-type {\n",
       "        vertical-align: middle;\n",
       "    }\n",
       "\n",
       "    .dataframe tbody tr th {\n",
       "        vertical-align: top;\n",
       "    }\n",
       "\n",
       "    .dataframe thead th {\n",
       "        text-align: right;\n",
       "    }\n",
       "</style>\n",
       "<table border=\"1\" class=\"dataframe\">\n",
       "  <thead>\n",
       "    <tr style=\"text-align: right;\">\n",
       "      <th></th>\n",
       "      <th>stars</th>\n",
       "      <th>useful</th>\n",
       "      <th>funny</th>\n",
       "      <th>cool</th>\n",
       "      <th>text</th>\n",
       "      <th>length</th>\n",
       "    </tr>\n",
       "  </thead>\n",
       "  <tbody>\n",
       "    <tr>\n",
       "      <td>0</td>\n",
       "      <td>2</td>\n",
       "      <td>0</td>\n",
       "      <td>1</td>\n",
       "      <td>1</td>\n",
       "      <td>Parking is tough to get here so I don't get to...</td>\n",
       "      <td>1066</td>\n",
       "    </tr>\n",
       "    <tr>\n",
       "      <td>1</td>\n",
       "      <td>2</td>\n",
       "      <td>2</td>\n",
       "      <td>0</td>\n",
       "      <td>0</td>\n",
       "      <td>Food was great! Loved the pepperoni rolls and ...</td>\n",
       "      <td>705</td>\n",
       "    </tr>\n",
       "    <tr>\n",
       "      <td>2</td>\n",
       "      <td>5</td>\n",
       "      <td>1</td>\n",
       "      <td>1</td>\n",
       "      <td>1</td>\n",
       "      <td>My hubby and I went here for our first date ni...</td>\n",
       "      <td>275</td>\n",
       "    </tr>\n",
       "    <tr>\n",
       "      <td>3</td>\n",
       "      <td>3</td>\n",
       "      <td>0</td>\n",
       "      <td>0</td>\n",
       "      <td>0</td>\n",
       "      <td>Johnny Rockets is a decent choice for a weeken...</td>\n",
       "      <td>1002</td>\n",
       "    </tr>\n",
       "    <tr>\n",
       "      <td>4</td>\n",
       "      <td>5</td>\n",
       "      <td>1</td>\n",
       "      <td>0</td>\n",
       "      <td>0</td>\n",
       "      <td>Fries are cooked to perfection....very crispy....</td>\n",
       "      <td>285</td>\n",
       "    </tr>\n",
       "  </tbody>\n",
       "</table>\n",
       "</div>"
      ],
      "text/plain": [
       "   stars  useful  funny  cool  \\\n",
       "0      2       0      1     1   \n",
       "1      2       2      0     0   \n",
       "2      5       1      1     1   \n",
       "3      3       0      0     0   \n",
       "4      5       1      0     0   \n",
       "\n",
       "                                                text  length  \n",
       "0  Parking is tough to get here so I don't get to...    1066  \n",
       "1  Food was great! Loved the pepperoni rolls and ...     705  \n",
       "2  My hubby and I went here for our first date ni...     275  \n",
       "3  Johnny Rockets is a decent choice for a weeken...    1002  \n",
       "4  Fries are cooked to perfection....very crispy....     285  "
      ]
     },
     "execution_count": 4,
     "metadata": {},
     "output_type": "execute_result"
    }
   ],
   "source": [
    "review['length'] = review['text'].apply(len)\n",
    "review.head(5)"
   ]
  },
  {
   "cell_type": "code",
   "execution_count": 5,
   "metadata": {},
   "outputs": [
    {
     "data": {
      "text/html": [
       "<div>\n",
       "<style scoped>\n",
       "    .dataframe tbody tr th:only-of-type {\n",
       "        vertical-align: middle;\n",
       "    }\n",
       "\n",
       "    .dataframe tbody tr th {\n",
       "        vertical-align: top;\n",
       "    }\n",
       "\n",
       "    .dataframe thead th {\n",
       "        text-align: right;\n",
       "    }\n",
       "</style>\n",
       "<table border=\"1\" class=\"dataframe\">\n",
       "  <thead>\n",
       "    <tr style=\"text-align: right;\">\n",
       "      <th></th>\n",
       "      <th>stars</th>\n",
       "      <th>useful</th>\n",
       "      <th>funny</th>\n",
       "      <th>cool</th>\n",
       "      <th>length</th>\n",
       "    </tr>\n",
       "  </thead>\n",
       "  <tbody>\n",
       "    <tr>\n",
       "      <td>count</td>\n",
       "      <td>65313.000000</td>\n",
       "      <td>65313.000000</td>\n",
       "      <td>65313.000000</td>\n",
       "      <td>65313.000000</td>\n",
       "      <td>65313.000000</td>\n",
       "    </tr>\n",
       "    <tr>\n",
       "      <td>mean</td>\n",
       "      <td>3.411725</td>\n",
       "      <td>0.915009</td>\n",
       "      <td>0.367186</td>\n",
       "      <td>0.436820</td>\n",
       "      <td>558.391453</td>\n",
       "    </tr>\n",
       "    <tr>\n",
       "      <td>std</td>\n",
       "      <td>1.470263</td>\n",
       "      <td>2.087991</td>\n",
       "      <td>1.406702</td>\n",
       "      <td>1.628873</td>\n",
       "      <td>509.780200</td>\n",
       "    </tr>\n",
       "    <tr>\n",
       "      <td>min</td>\n",
       "      <td>1.000000</td>\n",
       "      <td>0.000000</td>\n",
       "      <td>0.000000</td>\n",
       "      <td>0.000000</td>\n",
       "      <td>1.000000</td>\n",
       "    </tr>\n",
       "    <tr>\n",
       "      <td>25%</td>\n",
       "      <td>2.000000</td>\n",
       "      <td>0.000000</td>\n",
       "      <td>0.000000</td>\n",
       "      <td>0.000000</td>\n",
       "      <td>224.000000</td>\n",
       "    </tr>\n",
       "    <tr>\n",
       "      <td>50%</td>\n",
       "      <td>4.000000</td>\n",
       "      <td>0.000000</td>\n",
       "      <td>0.000000</td>\n",
       "      <td>0.000000</td>\n",
       "      <td>400.000000</td>\n",
       "    </tr>\n",
       "    <tr>\n",
       "      <td>75%</td>\n",
       "      <td>5.000000</td>\n",
       "      <td>1.000000</td>\n",
       "      <td>0.000000</td>\n",
       "      <td>0.000000</td>\n",
       "      <td>716.000000</td>\n",
       "    </tr>\n",
       "    <tr>\n",
       "      <td>max</td>\n",
       "      <td>5.000000</td>\n",
       "      <td>118.000000</td>\n",
       "      <td>92.000000</td>\n",
       "      <td>112.000000</td>\n",
       "      <td>5000.000000</td>\n",
       "    </tr>\n",
       "  </tbody>\n",
       "</table>\n",
       "</div>"
      ],
      "text/plain": [
       "              stars        useful         funny          cool        length\n",
       "count  65313.000000  65313.000000  65313.000000  65313.000000  65313.000000\n",
       "mean       3.411725      0.915009      0.367186      0.436820    558.391453\n",
       "std        1.470263      2.087991      1.406702      1.628873    509.780200\n",
       "min        1.000000      0.000000      0.000000      0.000000      1.000000\n",
       "25%        2.000000      0.000000      0.000000      0.000000    224.000000\n",
       "50%        4.000000      0.000000      0.000000      0.000000    400.000000\n",
       "75%        5.000000      1.000000      0.000000      0.000000    716.000000\n",
       "max        5.000000    118.000000     92.000000    112.000000   5000.000000"
      ]
     },
     "execution_count": 5,
     "metadata": {},
     "output_type": "execute_result"
    }
   ],
   "source": [
    "review.describe()"
   ]
  },
  {
   "cell_type": "code",
   "execution_count": 6,
   "metadata": {},
   "outputs": [
    {
     "data": {
      "text/plain": [
       "Text(0.5, 1.0, 'Text Length Distribution')"
      ]
     },
     "execution_count": 6,
     "metadata": {},
     "output_type": "execute_result"
    },
    {
     "data": {
      "image/png": "[encoded data removed]",
      "text/plain": [
       "<Figure size 432x288 with 1 Axes>"
      ]
     },
     "metadata": {
      "needs_background": "light"
     },
     "output_type": "display_data"
    }
   ],
   "source": [
    "fig1 = plt.figure()\n",
    "sns.distplot(review['length'],kde=True,bins=50)\n",
    "plt.title('Text Length Distribution')"
   ]
  },
  {
   "cell_type": "code",
   "execution_count": 7,
   "metadata": {},
   "outputs": [
    {
     "data": {
      "text/plain": [
       "Text(0, 0.5, 'Count')"
      ]
     },
     "execution_count": 7,
     "metadata": {},
     "output_type": "execute_result"
    },
    {
     "data": {
      "image/png": "[encoded data removed]",
      "text/plain": [
       "<Figure size 864x576 with 1 Axes>"
      ]
     },
     "metadata": {
      "needs_background": "light"
     },
     "output_type": "display_data"
    }
   ],
   "source": [
    "fig = plt.figure(figsize=(12,8))\n",
    "ax1 = plt.subplot(2,2,1)\n",
    "ax1 = sns.countplot(review.stars)\n",
    "ax1.set_title('Stars for Burgers Business')\n",
    "ax1.set_ylabel('Count')\n",
    "\n",
    "# ax1 = plt.subplot(2,2,2)\n",
    "# ax1 = sns.countplot(review.useful)\n",
    "# ax1.set_title('useful review')\n",
    "# ax1.set_ylabel('Count')\n",
    "\n",
    "# ax1 = plt.subplot(2,2,3)\n",
    "# ax1 = sns.countplot(review.funny)\n",
    "# ax1.set_title('funny review')\n",
    "# ax1.set_ylabel('Count')\n",
    "\n",
    "# ax1 = plt.subplot(2,2,4)\n",
    "# ax1 = sns.countplot(review.cool)\n",
    "# ax1.set_title('cool review')\n",
    "# ax1.set_ylabel('Count')\n",
    "\n",
    "# plt.tight_layout()"
   ]
  },
  {
   "cell_type": "code",
   "execution_count": 8,
   "metadata": {},
   "outputs": [
    {
     "data": {
      "text/plain": [
       "Text(0.5, 1, 'Heatmap of Variables')"
      ]
     },
     "execution_count": 8,
     "metadata": {},
     "output_type": "execute_result"
    },
    {
     "data": {
      "image/png": "[encoded data removed]",
      "text/plain": [
       "<Figure size 432x288 with 2 Axes>"
      ]
     },
     "metadata": {
      "needs_background": "light"
     },
     "output_type": "display_data"
    }
   ],
   "source": [
    "review_cor = review.corr()\n",
    "fig = plt.figure()\n",
    "axes=sns.heatmap(review_cor,cmap = 'coolwarm',linewidth=1,linecolor='white',annot=True)\n",
    "axes.set_title('Heatmap of Variables',fontsize=20)"
   ]
  },
  {
   "cell_type": "code",
   "execution_count": 9,
   "metadata": {},
   "outputs": [],
   "source": [
    "def remove_punc_stopword(text):\n",
    "    remove_punc = [word for word in text if word not in string.punctuation]\n",
    "    remove_punc = ''.join(remove_punc)\n",
    "    return [word.lower() for word in remove_punc.split() if word.lower() not in stopwords.words('english')]"
   ]
  },
  {
   "cell_type": "code",
   "execution_count": 33,
   "metadata": {
    "scrolled": true
   },
   "outputs": [
    {
     "name": "stderr",
     "output_type": "stream",
     "text": [
      "C:\\Users\\KOU\\Anaconda3\\lib\\site-packages\\ipykernel_launcher.py:3: SettingWithCopyWarning: \n",
      "A value is trying to be set on a copy of a slice from a DataFrame.\n",
      "Try using .loc[row_indexer,col_indexer] = value instead\n",
      "\n",
      "See the caveats in the documentation: http://pandas.pydata.org/pandas-docs/stable/user_guide/indexing.html#returning-a-view-versus-a-copy\n",
      "  This is separate from the ipykernel package so we can avoid doing imports until\n"
     ]
    }
   ],
   "source": [
    "review_text = review.copy()\n",
    "review_text = review[['stars','text']]\n",
    "review_text['text_single'] = review_text['text'].apply(remove_punc_stopword)"
   ]
  },
  {
   "cell_type": "code",
   "execution_count": 28,
   "metadata": {},
   "outputs": [],
   "source": [
    "review_text = pd.read_csv('data/review_text.csv')"
   ]
  },
  {
   "cell_type": "code",
   "execution_count": 12,
   "metadata": {},
   "outputs": [],
   "source": [
    "# review_text.to_csv('data/review_text.csv')"
   ]
  },
  {
   "cell_type": "code",
   "execution_count": 30,
   "metadata": {},
   "outputs": [],
   "source": [
    "def get_2word(text):\n",
    "    returnlist =[]\n",
    "    biwords = list(nltk.bigrams(text))\n",
    "    for biword in biwords:\n",
    "        returnlist.append(' '.join(biword))\n",
    "    return returnlist"
   ]
  },
  {
   "cell_type": "code",
   "execution_count": 31,
   "metadata": {},
   "outputs": [],
   "source": [
    "review1 = review_text[:25000].copy()\n",
    "review1['text_bi'] = review1.text_single.apply(get_2word)\n",
    "review2 = review_text[25000:50000].copy()\n",
    "review2['text_bi'] = review2.text_single.apply(get_2word)\n",
    "review3 = review_text[50000:].copy()\n",
    "review3['text_bi'] = review3.text_single.apply(get_2word)\n",
    "\n",
    "review_text =  pd.concat([review1,review2,review3],axis=0)"
   ]
  },
  {
   "cell_type": "code",
   "execution_count": 32,
   "metadata": {
    "scrolled": true
   },
   "outputs": [
    {
     "data": {
      "text/html": [
       "<div>\n",
       "<style scoped>\n",
       "    .dataframe tbody tr th:only-of-type {\n",
       "        vertical-align: middle;\n",
       "    }\n",
       "\n",
       "    .dataframe tbody tr th {\n",
       "        vertical-align: top;\n",
       "    }\n",
       "\n",
       "    .dataframe thead th {\n",
       "        text-align: right;\n",
       "    }\n",
       "</style>\n",
       "<table border=\"1\" class=\"dataframe\">\n",
       "  <thead>\n",
       "    <tr style=\"text-align: right;\">\n",
       "      <th></th>\n",
       "      <th>Unnamed: 0</th>\n",
       "      <th>stars</th>\n",
       "      <th>text</th>\n",
       "      <th>text_single</th>\n",
       "      <th>text_bi</th>\n",
       "    </tr>\n",
       "  </thead>\n",
       "  <tbody>\n",
       "    <tr>\n",
       "      <td>0</td>\n",
       "      <td>0</td>\n",
       "      <td>2</td>\n",
       "      <td>Parking is tough to get here so I don't get to...</td>\n",
       "      <td>['parking', 'tough', 'get', 'dont', 'get', 'go...</td>\n",
       "      <td>[[ ', ' p, p a, a r, r k, k i, i n, n g, g ', ...</td>\n",
       "    </tr>\n",
       "    <tr>\n",
       "      <td>1</td>\n",
       "      <td>1</td>\n",
       "      <td>2</td>\n",
       "      <td>Food was great! Loved the pepperoni rolls and ...</td>\n",
       "      <td>['food', 'great', 'loved', 'pepperoni', 'rolls...</td>\n",
       "      <td>[[ ', ' f, f o, o o, o d, d ', ' ,, ,  ,   ', ...</td>\n",
       "    </tr>\n",
       "    <tr>\n",
       "      <td>2</td>\n",
       "      <td>2</td>\n",
       "      <td>5</td>\n",
       "      <td>My hubby and I went here for our first date ni...</td>\n",
       "      <td>['hubby', 'went', 'first', 'date', 'night', 'a...</td>\n",
       "      <td>[[ ', ' h, h u, u b, b b, b y, y ', ' ,, ,  , ...</td>\n",
       "    </tr>\n",
       "    <tr>\n",
       "      <td>3</td>\n",
       "      <td>3</td>\n",
       "      <td>3</td>\n",
       "      <td>Johnny Rockets is a decent choice for a weeken...</td>\n",
       "      <td>['johnny', 'rockets', 'decent', 'choice', 'wee...</td>\n",
       "      <td>[[ ', ' j, j o, o h, h n, n n, n y, y ', ' ,, ...</td>\n",
       "    </tr>\n",
       "    <tr>\n",
       "      <td>4</td>\n",
       "      <td>4</td>\n",
       "      <td>5</td>\n",
       "      <td>Fries are cooked to perfection....very crispy....</td>\n",
       "      <td>['fries', 'cooked', 'perfectionvery', 'crispy'...</td>\n",
       "      <td>[[ ', ' f, f r, r i, i e, e s, s ', ' ,, ,  , ...</td>\n",
       "    </tr>\n",
       "  </tbody>\n",
       "</table>\n",
       "</div>"
      ],
      "text/plain": [
       "   Unnamed: 0  stars                                               text  \\\n",
       "0           0      2  Parking is tough to get here so I don't get to...   \n",
       "1           1      2  Food was great! Loved the pepperoni rolls and ...   \n",
       "2           2      5  My hubby and I went here for our first date ni...   \n",
       "3           3      3  Johnny Rockets is a decent choice for a weeken...   \n",
       "4           4      5  Fries are cooked to perfection....very crispy....   \n",
       "\n",
       "                                         text_single  \\\n",
       "0  ['parking', 'tough', 'get', 'dont', 'get', 'go...   \n",
       "1  ['food', 'great', 'loved', 'pepperoni', 'rolls...   \n",
       "2  ['hubby', 'went', 'first', 'date', 'night', 'a...   \n",
       "3  ['johnny', 'rockets', 'decent', 'choice', 'wee...   \n",
       "4  ['fries', 'cooked', 'perfectionvery', 'crispy'...   \n",
       "\n",
       "                                             text_bi  \n",
       "0  [[ ', ' p, p a, a r, r k, k i, i n, n g, g ', ...  \n",
       "1  [[ ', ' f, f o, o o, o d, d ', ' ,, ,  ,   ', ...  \n",
       "2  [[ ', ' h, h u, u b, b b, b y, y ', ' ,, ,  , ...  \n",
       "3  [[ ', ' j, j o, o h, h n, n n, n y, y ', ' ,, ...  \n",
       "4  [[ ', ' f, f r, r i, i e, e s, s ', ' ,, ,  , ...  "
      ]
     },
     "execution_count": 32,
     "metadata": {},
     "output_type": "execute_result"
    }
   ],
   "source": [
    "review_text.head()"
   ]
  },
  {
   "cell_type": "code",
   "execution_count": 16,
   "metadata": {},
   "outputs": [],
   "source": [
    "#review_text.to_csv('data/review_text.csv',index=False)"
   ]
  },
  {
   "cell_type": "code",
   "execution_count": 17,
   "metadata": {},
   "outputs": [
    {
     "data": {
      "image/png": "[encoded data removed]",
      "text/plain": [
       "<Figure size 432x288 with 1 Axes>"
      ]
     },
     "metadata": {
      "needs_background": "light"
     },
     "output_type": "display_data"
    },
    {
     "data": {
      "text/plain": [
       "<matplotlib.axes._subplots.AxesSubplot at 0x1c7a7fad2c8>"
      ]
     },
     "execution_count": 17,
     "metadata": {},
     "output_type": "execute_result"
    }
   ],
   "source": [
    "review_5stars = review_text[review_text.stars == 5].reset_index(drop=True)\n",
    "word_split = []\n",
    "for i in range(len(review_5stars)):\n",
    "    for word in review_5stars.text_bi[i]:\n",
    "        if 'food' not in word and 'place' not in word and 'back' not in word and 'time' not in word:\n",
    "            word_split.append(word)\n",
    "        \n",
    "\n",
    "FreqDist(word_split).plot(25,cumulative=False)\n",
    "#print(FreqDist(word_split).most_common(30))"
   ]
  },
  {
   "cell_type": "code",
   "execution_count": 18,
   "metadata": {},
   "outputs": [
    {
     "ename": "NameError",
     "evalue": "name 'WordCloud' is not defined",
     "output_type": "error",
     "traceback": [
      "\u001b[1;31m---------------------------------------------------------------------------\u001b[0m",
      "\u001b[1;31mNameError\u001b[0m                                 Traceback (most recent call last)",
      "\u001b[1;32m<ipython-input-18-2e19d86ea6d4>\u001b[0m in \u001b[0;36m<module>\u001b[1;34m\u001b[0m\n\u001b[1;32m----> 1\u001b[1;33m wordcloud = WordCloud(\n\u001b[0m\u001b[0;32m      2\u001b[0m     \u001b[0mwidth\u001b[0m \u001b[1;33m=\u001b[0m \u001b[1;36m3000\u001b[0m\u001b[1;33m,\u001b[0m\u001b[1;33m\u001b[0m\u001b[1;33m\u001b[0m\u001b[0m\n\u001b[0;32m      3\u001b[0m     \u001b[0mheight\u001b[0m \u001b[1;33m=\u001b[0m \u001b[1;36m2000\u001b[0m\u001b[1;33m,\u001b[0m\u001b[1;33m\u001b[0m\u001b[1;33m\u001b[0m\u001b[0m\n\u001b[0;32m      4\u001b[0m     \u001b[0mbackground_color\u001b[0m \u001b[1;33m=\u001b[0m\u001b[1;34m'black'\u001b[0m\u001b[1;33m,\u001b[0m\u001b[1;33m\u001b[0m\u001b[1;33m\u001b[0m\u001b[0m\n\u001b[0;32m      5\u001b[0m     stopwords = STOPWORDS).generate(str(review_5stars.text.values))\n",
      "\u001b[1;31mNameError\u001b[0m: name 'WordCloud' is not defined"
     ]
    }
   ],
   "source": [
    "wordcloud = WordCloud(\n",
    "    width = 3000,\n",
    "    height = 2000,\n",
    "    background_color ='black',\n",
    "    stopwords = STOPWORDS).generate(str(review_5stars.text.values))\n",
    "\n",
    "fig = plt.figure(facecolor='k',edgecolor='k')\n",
    "plt.imshow(wordcloud,interpolation='bilinear')\n",
    "plt.axis('off')\n",
    "plt.tight_layout(pad=0)"
   ]
  },
  {
   "cell_type": "code",
   "execution_count": 19,
   "metadata": {},
   "outputs": [
    {
     "data": {
      "image/png": "[encoded data removed]",
      "text/plain": [
       "<Figure size 432x288 with 1 Axes>"
      ]
     },
     "metadata": {
      "needs_background": "light"
     },
     "output_type": "display_data"
    },
    {
     "data": {
      "text/plain": [
       "<matplotlib.axes._subplots.AxesSubplot at 0x1c7a7e5cc48>"
      ]
     },
     "execution_count": 19,
     "metadata": {},
     "output_type": "execute_result"
    }
   ],
   "source": [
    "review_4stars = review_text[review_text.stars == 4].reset_index(drop=True)\n",
    "word_split = []\n",
    "for i in range(len(review_4stars)):\n",
    "    for word in review_4stars.text_bi[i]:\n",
    "        if 'food' not in word and 'place' not in word and 'back' not in word and 'time' not in word:\n",
    "            word_split.append(word)\n",
    "        \n",
    "FreqDist(word_split).plot(20,cumulative=False)"
   ]
  },
  {
   "cell_type": "code",
   "execution_count": 20,
   "metadata": {},
   "outputs": [
    {
     "ename": "NameError",
     "evalue": "name 'WordCloud' is not defined",
     "output_type": "error",
     "traceback": [
      "\u001b[1;31m---------------------------------------------------------------------------\u001b[0m",
      "\u001b[1;31mNameError\u001b[0m                                 Traceback (most recent call last)",
      "\u001b[1;32m<ipython-input-20-2112ec0d6880>\u001b[0m in \u001b[0;36m<module>\u001b[1;34m\u001b[0m\n\u001b[1;32m----> 1\u001b[1;33m wordcloud = WordCloud(\n\u001b[0m\u001b[0;32m      2\u001b[0m     \u001b[0mwidth\u001b[0m \u001b[1;33m=\u001b[0m \u001b[1;36m3000\u001b[0m\u001b[1;33m,\u001b[0m\u001b[1;33m\u001b[0m\u001b[1;33m\u001b[0m\u001b[0m\n\u001b[0;32m      3\u001b[0m     \u001b[0mheight\u001b[0m \u001b[1;33m=\u001b[0m \u001b[1;36m2000\u001b[0m\u001b[1;33m,\u001b[0m\u001b[1;33m\u001b[0m\u001b[1;33m\u001b[0m\u001b[0m\n\u001b[0;32m      4\u001b[0m     \u001b[0mbackground_color\u001b[0m \u001b[1;33m=\u001b[0m\u001b[1;34m'black'\u001b[0m\u001b[1;33m,\u001b[0m\u001b[1;33m\u001b[0m\u001b[1;33m\u001b[0m\u001b[0m\n\u001b[0;32m      5\u001b[0m     stopwords = STOPWORDS).generate(str(review_4stars.text.values))\n",
      "\u001b[1;31mNameError\u001b[0m: name 'WordCloud' is not defined"
     ]
    }
   ],
   "source": [
    "wordcloud = WordCloud(\n",
    "    width = 3000,\n",
    "    height = 2000,\n",
    "    background_color ='black',\n",
    "    stopwords = STOPWORDS).generate(str(review_4stars.text.values))\n",
    "\n",
    "fig = plt.figure(facecolor='k',edgecolor='k')\n",
    "plt.imshow(wordcloud,interpolation='bilinear')\n",
    "plt.axis('off')\n",
    "plt.tight_layout(pad=0)"
   ]
  },
  {
   "cell_type": "code",
   "execution_count": 22,
   "metadata": {},
   "outputs": [
    {
     "data": {
      "image/png": "[encoded data removed]",
      "text/plain": [
       "<Figure size 576x360 with 1 Axes>"
      ]
     },
     "metadata": {
      "needs_background": "light"
     },
     "output_type": "display_data"
    },
    {
     "name": "stdout",
     "output_type": "stream",
     "text": [
      "[('go back', 1133), ('drive thru', 1053), ('10 minutes', 940), ('fast food', 873), ('customer service', 867), ('20 minutes', 850), ('15 minutes', 815), ('first time', 745), ('minutes later', 583), ('come back', 579), ('food good', 576), ('ive ever', 571), ('dont know', 562), ('get food', 559), ('came back', 548), ('every time', 537), ('going back', 529), ('even though', 522), ('tasted like', 520), ('30 minutes', 493), ('last time', 490), ('onion rings', 485), ('minutes get', 479), ('5 minutes', 465), ('wont back', 462), ('ice cream', 442), ('didnt even', 429), ('looked like', 420), ('never go', 408), ('long time', 401), ('pretty good', 399), ('well done', 393), ('45 minutes', 389), ('im sure', 378), ('chicken sandwich', 376), ('take order', 368), ('much better', 352), ('burger king', 341), ('told us', 339), ('service slow', 333)]\n"
     ]
    }
   ],
   "source": [
    "review_12stars = review_text[review_text.stars < 3].reset_index(drop=True)\n",
    "word_split = []\n",
    "for i in range(len(review_12stars)):\n",
    "    for word in review_12stars.text_bi[i]:\n",
    "        word_split.append(word)\n",
    "        \n",
    "plt.figure(figsize=(8, 5))\n",
    "plt.xticks(fontsize=14)\n",
    "plt.yticks(fontsize=14)\n",
    "plt.xlabel('Samples', fontsize=18)\n",
    "plt.ylabel('Counts', fontsize=18)\n",
    "FreqDist(word_split).plot(20,cumulative=False)\n",
    "print(FreqDist(word_split).most_common(40))"
   ]
  },
  {
   "cell_type": "code",
   "execution_count": 23,
   "metadata": {},
   "outputs": [
    {
     "ename": "NameError",
     "evalue": "name 'WordCloud' is not defined",
     "output_type": "error",
     "traceback": [
      "\u001b[1;31m---------------------------------------------------------------------------\u001b[0m",
      "\u001b[1;31mNameError\u001b[0m                                 Traceback (most recent call last)",
      "\u001b[1;32m<ipython-input-23-d7ebb8da688b>\u001b[0m in \u001b[0;36m<module>\u001b[1;34m\u001b[0m\n\u001b[1;32m----> 1\u001b[1;33m wordcloud = WordCloud(\n\u001b[0m\u001b[0;32m      2\u001b[0m     \u001b[0mwidth\u001b[0m \u001b[1;33m=\u001b[0m \u001b[1;36m3000\u001b[0m\u001b[1;33m,\u001b[0m\u001b[1;33m\u001b[0m\u001b[1;33m\u001b[0m\u001b[0m\n\u001b[0;32m      3\u001b[0m     \u001b[0mheight\u001b[0m \u001b[1;33m=\u001b[0m \u001b[1;36m2000\u001b[0m\u001b[1;33m,\u001b[0m\u001b[1;33m\u001b[0m\u001b[1;33m\u001b[0m\u001b[0m\n\u001b[0;32m      4\u001b[0m     \u001b[0mbackground_color\u001b[0m \u001b[1;33m=\u001b[0m\u001b[1;34m'black'\u001b[0m\u001b[1;33m,\u001b[0m\u001b[1;33m\u001b[0m\u001b[1;33m\u001b[0m\u001b[0m\n\u001b[0;32m      5\u001b[0m     stopwords = STOPWORDS).generate(str(review_12stars.text.values))\n",
      "\u001b[1;31mNameError\u001b[0m: name 'WordCloud' is not defined"
     ]
    }
   ],
   "source": [
    "wordcloud = WordCloud(\n",
    "    width = 3000,\n",
    "    height = 2000,\n",
    "    background_color ='black',\n",
    "    stopwords = STOPWORDS).generate(str(review_12stars.text.values))\n",
    "\n",
    "fig = plt.figure(facecolor='k',edgecolor='k')\n",
    "plt.imshow(wordcloud,interpolation='bilinear')\n",
    "plt.axis('off')\n",
    "plt.tight_layout(pad=0)"
   ]
  },
  {
   "cell_type": "code",
   "execution_count": 24,
   "metadata": {},
   "outputs": [],
   "source": [
    "def word_example(word='',number=10,star_low=1,star_high=5,seed = 0,is_state=False,state='useful',over=0):\n",
    "    \"\"\"generate n=number of reviews that contain 'word' randomly.\n",
    "    And the reviews' stars are bounded by star_low and star_high.\n",
    "    If is_state is True, the reviews are also need to be described as $state(useful,funny,cool) by at least $over people .\"\"\"\n",
    "    high_index = review.stars.values<=star_high\n",
    "    low_index = review.stars.values>=star_low\n",
    "    if is_state:\n",
    "        state_index = review[state].values>over\n",
    "        filter_index = high_index.astype(int)+low_index.astype(int)+state_index.astype(int)\n",
    "    else:\n",
    "        filter_index = high_index.astype(int)+low_index.astype(int)\n",
    "        \n",
    "    tmp_df = shuffle(review[filter_index==2],random_state = seed)\n",
    "    \n",
    "    count=0\n",
    "    for i in range(tmp_df.shape[0]):\n",
    "        if count<number:\n",
    "            if word in tmp_df.iloc[i].text.lower():\n",
    "                print(f'{count+1}: {tmp_df.iloc[i].text}')\n",
    "                print('-'*120)\n",
    "                count+=1\n",
    "        else:\n",
    "            break        "
   ]
  },
  {
   "cell_type": "code",
   "execution_count": 25,
   "metadata": {},
   "outputs": [
    {
     "name": "stdout",
     "output_type": "stream",
     "text": [
      "1: i'm sure i'll be back to this place again due to my now-residency in lakewood and proclivity for craft beers, but it did not blow my mind at all on this maiden voyage.\n",
      "\n",
      "had festina peche draft (gotta drink it while its in season, can't resist it) and tried the buckeye strawberry tart which was the pinkest beer i've ever had, but still good. wouldn't drink more than one though. the beer selection is awesome, didn't even look at the bottle list because there were plenty of draft options.\n",
      "\n",
      "the food - meh. i had the '76 burger and it just seemed greasy.. like beyond the level i can tolerate. i don't expect a LOT from bar food, but i expect to not be grossed out. the shoestring fries rocked and i ate all of them, deep fried pickles don't do it for me either, i'm just interested in pickles straight up. \n",
      "\n",
      "the service was attentive but apathetic, and that's fine. i don't expect servers to be my bffs. \n",
      "\n",
      "bbe, i know i'll give you another go round, but this one left a little to be desired.\n",
      "------------------------------------------------------------------------------------------------------------------------\n",
      "2: Worst meal I have ever had here! I have been going here for years and it's getting worse each time. I ordered a N'Awlins Burgher & fries and my daughter ordered Buffalo Chicken Dip. One hour from when I sat down the food finally appeared, after I had to ask about how much longer. There were 2 other people waiting on food and a total of 15 people in the restaurant (all had their food & were there longer than I was). The Buf Chick dip came out in a small styrofoam container...cold & in a chunk (the bartender said they were out of dishes & \"yeah that doesn't look like the normal dip\") the \"Cajun burger did not have any seasoning or bacon as listed on the menu of how the burger was supposed to have come (the bartender took the menu back to the cook and was at a loss of words at how bad the meal was sent out for her to deliver) there were about 20 under cooked fries to accompany the poorly made burger. Here's what the bacon looked like when the bartender brought it to try & make the burger what I ordered & asked if she could bring some seasoning to help the burger!! Kitchen staff needs a ton of training & HELP. I was not charged for the food, just my drink but I came there because I was hungry not because I wanted a free meal. To top it off, the bartender decided to tell the 3 new customers that came & sat at the bar about my bad food which made them ask me \"how bad was it\".\n",
      "------------------------------------------------------------------------------------------------------------------------\n",
      "3: Listen, I am a fan of Five Guys and I have dined here a few times before as I was a Pitt student. I don't have high expectations for fast food, and I rarely review fast food places. However, my recent experience was noteworthy enough to write this review. I had an event to go to in the evening and didn't have time to go home and make dinner in between so I decided I would grab fast food. I haven't had Five Guys in a while so I went with it. I ordered online, as I needed the food by a certain time and figured it would be best to order ahead of time online to eliminate wasting time waiting at the restaurant, or taking time to call to place my order beforehand. I placed my order around 4:15 pm and requested for the food to be ready at 4:45 pm. I figured that this was plenty of time. I parked my car nearby (without paying for parking, since I assumed I would be in and out quickly), and at promptly 4:45 pm I walked into the restaurant and told the cashier that I was there to pick up my order. They then alerted the kitchen staff, who started to prepare my order. Ok... I appreciate that the food will be fresh, but why have the option online to add a time when it's not going to be ready anyway? The restaurant was busy and I ended up waiting 20 minutes for my food. I was relieved that I didn't get a parking ticket during that time. I was a bit frustrated when I got back into my car, as I was now running late to my event due to the unexpected wait time for food. As one does with ALL fast food bags when ordering fries.. I went into the bag to reach for a french fry. Only to be saddened by the fact that ALL OF THE FRIES were COVERED in ENTIRELY TOO MUCH SALT. I mean... I like salt... but these were inedible. I had no time to go back into the restaurant, so I had to waste them. The burger was fine. \n",
      "\n",
      "Sorry Five Guys, but I don't see me coming back for a looooonnnnggg time.\n",
      "------------------------------------------------------------------------------------------------------------------------\n"
     ]
    }
   ],
   "source": [
    "word_example('list',number = 3,star_low=1,star_high=2,seed=1)"
   ]
  },
  {
   "cell_type": "code",
   "execution_count": 26,
   "metadata": {},
   "outputs": [
    {
     "data": {
      "image/png": "[encoded data removed]",
      "text/plain": [
       "<Figure size 432x288 with 1 Axes>"
      ]
     },
     "metadata": {
      "needs_background": "light"
     },
     "output_type": "display_data"
    },
    {
     "data": {
      "text/plain": [
       "<matplotlib.axes._subplots.AxesSubplot at 0x25943ad7748>"
      ]
     },
     "execution_count": 26,
     "metadata": {},
     "output_type": "execute_result"
    }
   ],
   "source": [
    "review_useful = review_text[review.useful > 0].reset_index(drop=True)\n",
    "word_split = []\n",
    "for i in range(len(review_useful)):\n",
    "    for word in review_useful.text_bi[i]:\n",
    "        if 'food' not in word and 'place' not in word and 'back' not in word and 'time' not in word:\n",
    "            word_split.append(word)\n",
    "\n",
    "FreqDist(word_split).plot(20,cumulative=False)"
   ]
  },
  {
   "cell_type": "code",
   "execution_count": 27,
   "metadata": {},
   "outputs": [
    {
     "ename": "NameError",
     "evalue": "name 'WordCloud' is not defined",
     "output_type": "error",
     "traceback": [
      "\u001b[1;31m---------------------------------------------------------------------------\u001b[0m",
      "\u001b[1;31mNameError\u001b[0m                                 Traceback (most recent call last)",
      "\u001b[1;32m<ipython-input-27-45a0913a3c6b>\u001b[0m in \u001b[0;36m<module>\u001b[1;34m\u001b[0m\n\u001b[1;32m----> 1\u001b[1;33m wordcloud = WordCloud(\n\u001b[0m\u001b[0;32m      2\u001b[0m     \u001b[0mwidth\u001b[0m \u001b[1;33m=\u001b[0m \u001b[1;36m3000\u001b[0m\u001b[1;33m,\u001b[0m\u001b[1;33m\u001b[0m\u001b[1;33m\u001b[0m\u001b[0m\n\u001b[0;32m      3\u001b[0m     \u001b[0mheight\u001b[0m \u001b[1;33m=\u001b[0m \u001b[1;36m2000\u001b[0m\u001b[1;33m,\u001b[0m\u001b[1;33m\u001b[0m\u001b[1;33m\u001b[0m\u001b[0m\n\u001b[0;32m      4\u001b[0m     \u001b[0mbackground_color\u001b[0m \u001b[1;33m=\u001b[0m\u001b[1;34m'black'\u001b[0m\u001b[1;33m,\u001b[0m\u001b[1;33m\u001b[0m\u001b[1;33m\u001b[0m\u001b[0m\n\u001b[0;32m      5\u001b[0m     stopwords = STOPWORDS).generate(str(review_useful.text.values))\n",
      "\u001b[1;31mNameError\u001b[0m: name 'WordCloud' is not defined"
     ]
    }
   ],
   "source": [
    "wordcloud = WordCloud(\n",
    "    width = 3000,\n",
    "    height = 2000,\n",
    "    background_color ='black',\n",
    "    stopwords = STOPWORDS).generate(str(review_useful.text.values))\n",
    "\n",
    "fig = plt.figure(facecolor='k',edgecolor='k')\n",
    "plt.imshow(wordcloud,interpolation='bilinear')\n",
    "plt.axis('off')\n",
    "plt.tight_layout(pad=0)"
   ]
  },
  {
   "cell_type": "code",
   "execution_count": null,
   "metadata": {},
   "outputs": [],
   "source": [
    "word_example('bar',number = 3,star_low=4,star_high=4,seed=2,is_state=True,state='useful',over=1)"
   ]
  },
  {
   "cell_type": "code",
   "execution_count": null,
   "metadata": {},
   "outputs": [],
   "source": []
  }
 ],
 "metadata": {
  "kernelspec": {
   "display_name": "Python 3",
   "language": "python",
   "name": "python3"
  },
  "language_info": {
   "codemirror_mode": {
    "name": "ipython",
    "version": 3
   },
   "file_extension": ".py",
   "mimetype": "text/x-python",
   "name": "python",
   "nbconvert_exporter": "python",
   "pygments_lexer": "ipython3",
   "version": "3.7.4"
  },
  "latex_envs": {
   "LaTeX_envs_menu_present": true,
   "autoclose": false,
   "autocomplete": true,
   "bibliofile": "biblio.bib",
   "cite_by": "apalike",
   "current_citInitial": 1,
   "eqLabelWithNumbers": true,
   "eqNumInitial": 1,
   "hotkeys": {
    "equation": "Ctrl-E",
    "itemize": "Ctrl-I"
   },
   "labels_anchors": false,
   "latex_user_defs": false,
   "report_style_numbering": false,
   "user_envs_cfg": false
  },
  "toc": {
   "base_numbering": 1,
   "nav_menu": {},
   "number_sections": true,
   "sideBar": true,
   "skip_h1_title": false,
   "title_cell": "Table of Contents",
   "title_sidebar": "Contents",
   "toc_cell": false,
   "toc_position": {},
   "toc_section_display": true,
   "toc_window_display": false
  },
  "varInspector": {
   "cols": {
    "lenName": 16,
    "lenType": 16,
    "lenVar": 40
   },
   "kernels_config": {
    "python": {
     "delete_cmd_postfix": "",
     "delete_cmd_prefix": "del ",
     "library": "var_list.py",
     "varRefreshCmd": "print(var_dic_list())"
    },
    "r": {
     "delete_cmd_postfix": ") ",
     "delete_cmd_prefix": "rm(",
     "library": "var_list.r",
     "varRefreshCmd": "cat(var_dic_list()) "
    }
   },
   "types_to_exclude": [
    "module",
    "function",
    "builtin_function_or_method",
    "instance",
    "_Feature"
   ],
   "window_display": false
  }
 },
 "nbformat": 4,
 "nbformat_minor": 4
}
